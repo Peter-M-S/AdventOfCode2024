{
  "nbformat": 4,
  "nbformat_minor": 0,
  "metadata": {
    "colab": {
      "provenance": [],
      "mount_file_id": "1BcmaXTbiJ8fae3xwfeSK10j-NOdWVRPz",
      "authorship_tag": "ABX9TyNWISxfb70M309SnhT3f6TR",
      "include_colab_link": true
    },
    "kernelspec": {
      "name": "python3",
      "display_name": "Python 3"
    },
    "language_info": {
      "name": "python"
    }
  },
  "cells": [
    {
      "cell_type": "markdown",
      "metadata": {
        "id": "view-in-github",
        "colab_type": "text"
      },
      "source": [
        "<a href=\"https://colab.research.google.com/github/Peter-M-S/AdventOfCode2024/blob/master/AoC2024.ipynb\" target=\"_parent\"><img src=\"https://colab.research.google.com/assets/colab-badge.svg\" alt=\"Open In Colab\"/></a>"
      ]
    },
    {
      "cell_type": "code",
      "execution_count": null,
      "metadata": {
        "collapsed": true,
        "id": "RK0HQd76nm76"
      },
      "outputs": [],
      "source": [
        "pip install 'advent-of-code-data[nb]'"
      ]
    },
    {
      "cell_type": "code",
      "source": [
        "from aocd import get_data\n",
        "year = 2024\n",
        "day = 1\n",
        "# how to get the session: str  https://github.com/wimglenn/advent-of-code-wim/issues/1 ?\n",
        "SESSION = {\n",
        "    2023: \"53616c7465645f5fd430b4ef350fbc4cd2443bd44e238ef4efaf075baf0a1d22debb10c63677f20cda1a72c7acbf2f0bbbd6876ed5b1fc0a39a6b00c07a5ff07\",\n",
        "    2024: \"53616c7465645f5f4b761ffdedacea383cf3e1d2bd2bd3de4e6842096cb5d58e19ad5775615973e262d4fe11ba91b461b9fdfd4f8a1126853f60ea7bf8a02b58\"\n",
        "}\n",
        "print(get_data(session=SESSION[year], day=day, year=year-1))\n"
      ],
      "metadata": {
        "collapsed": true,
        "id": "EMfMk_PSn5tm"
      },
      "execution_count": null,
      "outputs": []
    },
    {
      "cell_type": "markdown",
      "source": [
        "# template"
      ],
      "metadata": {
        "id": "eDcV4HI-oBoG"
      }
    },
    {
      "cell_type": "code",
      "source": [
        "# Day\n",
        "import time\n",
        "import re\n",
        "d_pat = r\"\\d+\"\n",
        "AZ_pat = r\"[A-Z]+\"\n",
        "\n",
        "def read_puzzle(file):\n",
        "    with open(file) as f:\n",
        "        return f.read().split(\"\\n\")\n",
        "\n",
        "def solve(data, part1=0, part2=0):\n",
        "    return part1, part2\n",
        "\n",
        "def main(example):\n",
        "    file_name = f\"/content/drive/MyDrive/Colab Notebooks/{'example' if example else 'data'}.txt\"\n",
        "    start = time.perf_counter()\n",
        "    print(*solve(read_puzzle(file_name)))\n",
        "    print(f\"{((time.perf_counter() - start)*1000):5.1f}\")\n",
        "\n",
        "if __name__ == '__main__':\n",
        "    main(True)\n",
        "    #main(False)"
      ],
      "metadata": {
        "colab": {
          "base_uri": "https://localhost:8080/"
        },
        "id": "Tsoqcc4foDOy",
        "outputId": "12ef4d9c-165a-4b8a-f6cf-6bc08eafe36a"
      },
      "execution_count": 5,
      "outputs": [
        {
          "output_type": "stream",
          "name": "stdout",
          "text": [
            "0 0\n",
            "  5.3\n"
          ]
        }
      ]
    }
  ]
}